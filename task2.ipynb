{
 "cells": [
  {
   "cell_type": "code",
   "execution_count": 6,
   "id": "3f95d7dd",
   "metadata": {},
   "outputs": [],
   "source": [
    "import csv\n"
   ]
  },
  {
   "cell_type": "code",
   "execution_count": 54,
   "id": "1c14b386",
   "metadata": {},
   "outputs": [
    {
     "name": "stdout",
     "output_type": "stream",
     "text": [
      "[['Id', 'First Name', 'Last Name', 'DOB', 'Working'], ['1', 'RAM', 'RAVI', '10-09-1899', 'Y'], ['9', 'sachin', 'Philip', '22-10-1999', 'N'], ['8', 'arun', 'N A', '21-08-1992', 'Y'], ['4', 'Vivek', 'p', '21/08/1990', 'N'], ['3', 'Melvin sam', 'sam', '1-1-2000', 'Y'], ['2', 'PraBhU', '', '30/12/2001', 'N'], ['7', 'Arun John', 'Jospeh', '11-6-1789', 'N'], ['6', 'John', 'George p.s', '12-09-1996', 'Y']]\n"
     ]
    }
   ],
   "source": [
    "with open(\"task2.csv\") as csvfile:\n",
    "    reader = csv.reader(csvfile)\n",
    "    c1=[]\n",
    "    for row in reader:\n",
    "        c1.append(row)\n",
    "    print(c1)\n",
    "    "
   ]
  },
  {
   "cell_type": "code",
   "execution_count": 57,
   "id": "8912990b",
   "metadata": {},
   "outputs": [
    {
     "name": "stdout",
     "output_type": "stream",
     "text": [
      "[['Id', 'First Name', 'Last Name', 'DOB', 'Working'], ['1', 'Ram', 'Ravi', '10-09-1899', 'Y'], ['9', 'Sachin', 'Philip', '22-10-1999', 'N'], ['8', 'Arun', 'N A', '21-08-1992', 'Y'], ['4', 'Vivek', 'P', '21/08/1990', 'N'], ['3', 'Melvin Sam', 'Sam', '1-1-2000', 'Y'], ['2', 'Prabhu', '', '30/12/2001', 'N'], ['7', 'Arun John', 'Jospeh', '11-6-1789', 'N'], ['6', 'John', 'George P.S', '12-09-1996', 'Y']]\n"
     ]
    }
   ],
   "source": [
    "for i in c1:\n",
    "    i[1], i[2] = i[1].title(), i[2].title()\n",
    "print(c1)\n"
   ]
  },
  {
   "cell_type": "code",
   "execution_count": 64,
   "id": "d5a3fde2",
   "metadata": {},
   "outputs": [],
   "source": [
    "# update current csv file to new \n",
    "\n",
    "with open(\"task2.csv\", 'w') as cf:\n",
    "    writer = csv.writer(cf)\n",
    "    writer.writerow(c1)"
   ]
  },
  {
   "cell_type": "code",
   "execution_count": 63,
   "id": "01818c62",
   "metadata": {
    "scrolled": true
   },
   "outputs": [
    {
     "name": "stdout",
     "output_type": "stream",
     "text": [
      "[\"['Id', 'First Name', 'Last Name', 'DOB', 'Working']\", \"['1', 'Ram', 'Ravi', '10-09-1899', 'Y']\", \"['9', 'Sachin', 'Philip', '22-10-1999', 'N']\", \"['8', 'Arun', 'N A', '21-08-1992', 'Y']\", \"['4', 'Vivek', 'P', '21/08/1990', 'N']\", \"['3', 'Melvin Sam', 'Sam', '1-1-2000', 'Y']\", \"['2', 'Prabhu', '', '30/12/2001', 'N']\", \"['7', 'Arun John', 'Jospeh', '11-6-1789', 'N']\", \"['6', 'John', 'George P.S', '12-09-1996', 'Y']\"]\n"
     ]
    }
   ],
   "source": [
    "with open(\"task2.csv\") as csvfile:\n",
    "    reader = csv.reader(csvfile)\n",
    "    for row in reader:\n",
    "        print(row)\n",
    "    "
   ]
  }
 ],
 "metadata": {
  "kernelspec": {
   "display_name": "Python 3",
   "language": "python",
   "name": "python3"
  },
  "language_info": {
   "codemirror_mode": {
    "name": "ipython",
    "version": 3
   },
   "file_extension": ".py",
   "mimetype": "text/x-python",
   "name": "python",
   "nbconvert_exporter": "python",
   "pygments_lexer": "ipython3",
   "version": "3.8.5"
  }
 },
 "nbformat": 4,
 "nbformat_minor": 5
}
